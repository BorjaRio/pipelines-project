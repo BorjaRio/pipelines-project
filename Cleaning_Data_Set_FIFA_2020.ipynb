{
 "cells": [
  {
   "cell_type": "markdown",
   "metadata": {},
   "source": [
    "## Importamos librerias\n",
    "\n"
   ]
  },
  {
   "cell_type": "code",
   "execution_count": 4,
   "metadata": {},
   "outputs": [],
   "source": [
    "import os\n",
    "import numpy as np\n",
    "import pandas as pd\n",
    "import matplotlib.pyplot as plt\n",
    "import seaborn as sns\n",
    "import math\n",
    "import re"
   ]
  },
  {
   "cell_type": "markdown",
   "metadata": {},
   "source": [
    "## Elección Data Set"
   ]
  },
  {
   "cell_type": "markdown",
   "metadata": {},
   "source": [
    "### Elegimos el Data Set de Kaggle. https://www.kaggle.com/stefanoleone992/fifa-20-complete-player-dataset"
   ]
  },
  {
   "cell_type": "code",
   "execution_count": 26,
   "metadata": {},
   "outputs": [],
   "source": [
    "futbol = pd.read_csv(\"players_20.csv\", index_col=0, encoding = \"ISO-8859-1\")"
   ]
  },
  {
   "cell_type": "code",
   "execution_count": 6,
   "metadata": {},
   "outputs": [
    {
     "data": {
      "text/html": [
       "<div>\n",
       "<style scoped>\n",
       "    .dataframe tbody tr th:only-of-type {\n",
       "        vertical-align: middle;\n",
       "    }\n",
       "\n",
       "    .dataframe tbody tr th {\n",
       "        vertical-align: top;\n",
       "    }\n",
       "\n",
       "    .dataframe thead th {\n",
       "        text-align: right;\n",
       "    }\n",
       "</style>\n",
       "<table border=\"1\" class=\"dataframe\">\n",
       "  <thead>\n",
       "    <tr style=\"text-align: right;\">\n",
       "      <th></th>\n",
       "      <th>player_url</th>\n",
       "      <th>short_name</th>\n",
       "      <th>long_name</th>\n",
       "      <th>age</th>\n",
       "      <th>dob</th>\n",
       "      <th>height_cm</th>\n",
       "      <th>weight_kg</th>\n",
       "      <th>nationality</th>\n",
       "      <th>club</th>\n",
       "      <th>overall</th>\n",
       "      <th>...</th>\n",
       "      <th>lwb</th>\n",
       "      <th>ldm</th>\n",
       "      <th>cdm</th>\n",
       "      <th>rdm</th>\n",
       "      <th>rwb</th>\n",
       "      <th>lb</th>\n",
       "      <th>lcb</th>\n",
       "      <th>cb</th>\n",
       "      <th>rcb</th>\n",
       "      <th>rb</th>\n",
       "    </tr>\n",
       "    <tr>\n",
       "      <th>sofifa_id</th>\n",
       "      <th></th>\n",
       "      <th></th>\n",
       "      <th></th>\n",
       "      <th></th>\n",
       "      <th></th>\n",
       "      <th></th>\n",
       "      <th></th>\n",
       "      <th></th>\n",
       "      <th></th>\n",
       "      <th></th>\n",
       "      <th></th>\n",
       "      <th></th>\n",
       "      <th></th>\n",
       "      <th></th>\n",
       "      <th></th>\n",
       "      <th></th>\n",
       "      <th></th>\n",
       "      <th></th>\n",
       "      <th></th>\n",
       "      <th></th>\n",
       "      <th></th>\n",
       "    </tr>\n",
       "  </thead>\n",
       "  <tbody>\n",
       "    <tr>\n",
       "      <th>158023</th>\n",
       "      <td>https://sofifa.com/player/158023/lionel-messi/...</td>\n",
       "      <td>L. Messi</td>\n",
       "      <td>Lionel AndrÃ©s Messi Cuccittini</td>\n",
       "      <td>32</td>\n",
       "      <td>1987-06-24</td>\n",
       "      <td>170</td>\n",
       "      <td>72</td>\n",
       "      <td>Argentina</td>\n",
       "      <td>FC Barcelona</td>\n",
       "      <td>94</td>\n",
       "      <td>...</td>\n",
       "      <td>68+2</td>\n",
       "      <td>66+2</td>\n",
       "      <td>66+2</td>\n",
       "      <td>66+2</td>\n",
       "      <td>68+2</td>\n",
       "      <td>63+2</td>\n",
       "      <td>52+2</td>\n",
       "      <td>52+2</td>\n",
       "      <td>52+2</td>\n",
       "      <td>63+2</td>\n",
       "    </tr>\n",
       "    <tr>\n",
       "      <th>20801</th>\n",
       "      <td>https://sofifa.com/player/20801/c-ronaldo-dos-...</td>\n",
       "      <td>Cristiano Ronaldo</td>\n",
       "      <td>Cristiano Ronaldo dos Santos Aveiro</td>\n",
       "      <td>34</td>\n",
       "      <td>1985-02-05</td>\n",
       "      <td>187</td>\n",
       "      <td>83</td>\n",
       "      <td>Portugal</td>\n",
       "      <td>Juventus</td>\n",
       "      <td>93</td>\n",
       "      <td>...</td>\n",
       "      <td>65+3</td>\n",
       "      <td>61+3</td>\n",
       "      <td>61+3</td>\n",
       "      <td>61+3</td>\n",
       "      <td>65+3</td>\n",
       "      <td>61+3</td>\n",
       "      <td>53+3</td>\n",
       "      <td>53+3</td>\n",
       "      <td>53+3</td>\n",
       "      <td>61+3</td>\n",
       "    </tr>\n",
       "    <tr>\n",
       "      <th>190871</th>\n",
       "      <td>https://sofifa.com/player/190871/neymar-da-sil...</td>\n",
       "      <td>Neymar Jr</td>\n",
       "      <td>Neymar da Silva Santos Junior</td>\n",
       "      <td>27</td>\n",
       "      <td>1992-02-05</td>\n",
       "      <td>175</td>\n",
       "      <td>68</td>\n",
       "      <td>Brazil</td>\n",
       "      <td>Paris Saint-Germain</td>\n",
       "      <td>92</td>\n",
       "      <td>...</td>\n",
       "      <td>66+3</td>\n",
       "      <td>61+3</td>\n",
       "      <td>61+3</td>\n",
       "      <td>61+3</td>\n",
       "      <td>66+3</td>\n",
       "      <td>61+3</td>\n",
       "      <td>46+3</td>\n",
       "      <td>46+3</td>\n",
       "      <td>46+3</td>\n",
       "      <td>61+3</td>\n",
       "    </tr>\n",
       "    <tr>\n",
       "      <th>200389</th>\n",
       "      <td>https://sofifa.com/player/200389/jan-oblak/20/...</td>\n",
       "      <td>J. Oblak</td>\n",
       "      <td>Jan Oblak</td>\n",
       "      <td>26</td>\n",
       "      <td>1993-01-07</td>\n",
       "      <td>188</td>\n",
       "      <td>87</td>\n",
       "      <td>Slovenia</td>\n",
       "      <td>AtlÃ©tico Madrid</td>\n",
       "      <td>91</td>\n",
       "      <td>...</td>\n",
       "      <td>NaN</td>\n",
       "      <td>NaN</td>\n",
       "      <td>NaN</td>\n",
       "      <td>NaN</td>\n",
       "      <td>NaN</td>\n",
       "      <td>NaN</td>\n",
       "      <td>NaN</td>\n",
       "      <td>NaN</td>\n",
       "      <td>NaN</td>\n",
       "      <td>NaN</td>\n",
       "    </tr>\n",
       "    <tr>\n",
       "      <th>183277</th>\n",
       "      <td>https://sofifa.com/player/183277/eden-hazard/2...</td>\n",
       "      <td>E. Hazard</td>\n",
       "      <td>Eden Hazard</td>\n",
       "      <td>28</td>\n",
       "      <td>1991-01-07</td>\n",
       "      <td>175</td>\n",
       "      <td>74</td>\n",
       "      <td>Belgium</td>\n",
       "      <td>Real Madrid</td>\n",
       "      <td>91</td>\n",
       "      <td>...</td>\n",
       "      <td>66+3</td>\n",
       "      <td>63+3</td>\n",
       "      <td>63+3</td>\n",
       "      <td>63+3</td>\n",
       "      <td>66+3</td>\n",
       "      <td>61+3</td>\n",
       "      <td>49+3</td>\n",
       "      <td>49+3</td>\n",
       "      <td>49+3</td>\n",
       "      <td>61+3</td>\n",
       "    </tr>\n",
       "  </tbody>\n",
       "</table>\n",
       "<p>5 rows × 103 columns</p>\n",
       "</div>"
      ],
      "text/plain": [
       "                                                  player_url  \\\n",
       "sofifa_id                                                      \n",
       "158023     https://sofifa.com/player/158023/lionel-messi/...   \n",
       "20801      https://sofifa.com/player/20801/c-ronaldo-dos-...   \n",
       "190871     https://sofifa.com/player/190871/neymar-da-sil...   \n",
       "200389     https://sofifa.com/player/200389/jan-oblak/20/...   \n",
       "183277     https://sofifa.com/player/183277/eden-hazard/2...   \n",
       "\n",
       "                  short_name                            long_name  age  \\\n",
       "sofifa_id                                                                \n",
       "158023              L. Messi      Lionel AndrÃ©s Messi Cuccittini   32   \n",
       "20801      Cristiano Ronaldo  Cristiano Ronaldo dos Santos Aveiro   34   \n",
       "190871             Neymar Jr        Neymar da Silva Santos Junior   27   \n",
       "200389              J. Oblak                            Jan Oblak   26   \n",
       "183277             E. Hazard                          Eden Hazard   28   \n",
       "\n",
       "                  dob  height_cm  weight_kg nationality                 club  \\\n",
       "sofifa_id                                                                      \n",
       "158023     1987-06-24        170         72   Argentina         FC Barcelona   \n",
       "20801      1985-02-05        187         83    Portugal             Juventus   \n",
       "190871     1992-02-05        175         68      Brazil  Paris Saint-Germain   \n",
       "200389     1993-01-07        188         87    Slovenia     AtlÃ©tico Madrid   \n",
       "183277     1991-01-07        175         74     Belgium          Real Madrid   \n",
       "\n",
       "           overall  ...   lwb   ldm   cdm   rdm   rwb    lb   lcb    cb   rcb  \\\n",
       "sofifa_id           ...                                                         \n",
       "158023          94  ...  68+2  66+2  66+2  66+2  68+2  63+2  52+2  52+2  52+2   \n",
       "20801           93  ...  65+3  61+3  61+3  61+3  65+3  61+3  53+3  53+3  53+3   \n",
       "190871          92  ...  66+3  61+3  61+3  61+3  66+3  61+3  46+3  46+3  46+3   \n",
       "200389          91  ...   NaN   NaN   NaN   NaN   NaN   NaN   NaN   NaN   NaN   \n",
       "183277          91  ...  66+3  63+3  63+3  63+3  66+3  61+3  49+3  49+3  49+3   \n",
       "\n",
       "             rb  \n",
       "sofifa_id        \n",
       "158023     63+2  \n",
       "20801      61+3  \n",
       "190871     61+3  \n",
       "200389      NaN  \n",
       "183277     61+3  \n",
       "\n",
       "[5 rows x 103 columns]"
      ]
     },
     "execution_count": 6,
     "metadata": {},
     "output_type": "execute_result"
    }
   ],
   "source": [
    "futbol.head(5)"
   ]
  },
  {
   "cell_type": "markdown",
   "metadata": {},
   "source": [
    "### Hacemos un analisis preliminar sobre el tamaño de nuestro data Set. 18278 filas, 103 columnas"
   ]
  },
  {
   "cell_type": "code",
   "execution_count": 25,
   "metadata": {},
   "outputs": [
    {
     "name": "stdout",
     "output_type": "stream",
     "text": [
      "<class 'pandas.core.frame.DataFrame'>\n",
      "Int64Index: 18278 entries, 158023 to 233449\n",
      "Data columns (total 15 columns):\n",
      " #   Column                    Non-Null Count  Dtype  \n",
      "---  ------                    --------------  -----  \n",
      " 0   short_name                18278 non-null  object \n",
      " 1   age                       18278 non-null  int64  \n",
      " 2   height_cm                 18278 non-null  int64  \n",
      " 3   weight_kg                 18278 non-null  int64  \n",
      " 4   nationality               18278 non-null  object \n",
      " 5   club                      18278 non-null  object \n",
      " 6   overall                   18278 non-null  int64  \n",
      " 7   potential                 18278 non-null  int64  \n",
      " 8   value_eur                 18278 non-null  int64  \n",
      " 9   player_positions          18278 non-null  object \n",
      " 10  preferred_foot            18278 non-null  object \n",
      " 11  international_reputation  18278 non-null  int64  \n",
      " 12  release_clause_eur        16980 non-null  float64\n",
      " 13  team_jersey_number        18038 non-null  float64\n",
      " 14  contract_valid_until      18038 non-null  float64\n",
      "dtypes: float64(3), int64(7), object(5)\n",
      "memory usage: 2.2+ MB\n"
     ]
    }
   ],
   "source": [
    "futbol.info()"
   ]
  },
  {
   "cell_type": "markdown",
   "metadata": {},
   "source": [
    "### Miramos el tamaño nuestro Data Set (filas y columnas sobre las que vamos a trabajar)"
   ]
  },
  {
   "cell_type": "code",
   "execution_count": 8,
   "metadata": {},
   "outputs": [
    {
     "data": {
      "text/plain": [
       "(18278, 103)"
      ]
     },
     "execution_count": 8,
     "metadata": {},
     "output_type": "execute_result"
    }
   ],
   "source": [
    "futbol.shape"
   ]
  },
  {
   "cell_type": "markdown",
   "metadata": {},
   "source": [
    "### Analizamos las columnas"
   ]
  },
  {
   "cell_type": "code",
   "execution_count": 9,
   "metadata": {},
   "outputs": [
    {
     "data": {
      "text/plain": [
       "Index(['player_url', 'short_name', 'long_name', 'age', 'dob', 'height_cm',\n",
       "       'weight_kg', 'nationality', 'club', 'overall',\n",
       "       ...\n",
       "       'lwb', 'ldm', 'cdm', 'rdm', 'rwb', 'lb', 'lcb', 'cb', 'rcb', 'rb'],\n",
       "      dtype='object', length=103)"
      ]
     },
     "execution_count": 9,
     "metadata": {},
     "output_type": "execute_result"
    }
   ],
   "source": [
    "futbol.columns"
   ]
  },
  {
   "cell_type": "markdown",
   "metadata": {},
   "source": [
    "### Escogemos las columnas sobre las que vamos a hacer el analisis"
   ]
  },
  {
   "cell_type": "code",
   "execution_count": 24,
   "metadata": {},
   "outputs": [
    {
     "data": {
      "text/html": [
       "<div>\n",
       "<style scoped>\n",
       "    .dataframe tbody tr th:only-of-type {\n",
       "        vertical-align: middle;\n",
       "    }\n",
       "\n",
       "    .dataframe tbody tr th {\n",
       "        vertical-align: top;\n",
       "    }\n",
       "\n",
       "    .dataframe thead th {\n",
       "        text-align: right;\n",
       "    }\n",
       "</style>\n",
       "<table border=\"1\" class=\"dataframe\">\n",
       "  <thead>\n",
       "    <tr style=\"text-align: right;\">\n",
       "      <th></th>\n",
       "      <th>short_name</th>\n",
       "      <th>age</th>\n",
       "      <th>height_cm</th>\n",
       "      <th>weight_kg</th>\n",
       "      <th>nationality</th>\n",
       "      <th>club</th>\n",
       "      <th>overall</th>\n",
       "      <th>potential</th>\n",
       "      <th>value_eur</th>\n",
       "      <th>player_positions</th>\n",
       "      <th>preferred_foot</th>\n",
       "      <th>international_reputation</th>\n",
       "      <th>release_clause_eur</th>\n",
       "      <th>team_jersey_number</th>\n",
       "      <th>contract_valid_until</th>\n",
       "    </tr>\n",
       "    <tr>\n",
       "      <th>sofifa_id</th>\n",
       "      <th></th>\n",
       "      <th></th>\n",
       "      <th></th>\n",
       "      <th></th>\n",
       "      <th></th>\n",
       "      <th></th>\n",
       "      <th></th>\n",
       "      <th></th>\n",
       "      <th></th>\n",
       "      <th></th>\n",
       "      <th></th>\n",
       "      <th></th>\n",
       "      <th></th>\n",
       "      <th></th>\n",
       "      <th></th>\n",
       "    </tr>\n",
       "  </thead>\n",
       "  <tbody>\n",
       "    <tr>\n",
       "      <th>158023</th>\n",
       "      <td>L. Messi</td>\n",
       "      <td>32</td>\n",
       "      <td>170</td>\n",
       "      <td>72</td>\n",
       "      <td>Argentina</td>\n",
       "      <td>FC Barcelona</td>\n",
       "      <td>94</td>\n",
       "      <td>94</td>\n",
       "      <td>95500000</td>\n",
       "      <td>RW, CF, ST</td>\n",
       "      <td>Left</td>\n",
       "      <td>5</td>\n",
       "      <td>195800000.0</td>\n",
       "      <td>10.0</td>\n",
       "      <td>2021.0</td>\n",
       "    </tr>\n",
       "    <tr>\n",
       "      <th>20801</th>\n",
       "      <td>Cristiano Ronaldo</td>\n",
       "      <td>34</td>\n",
       "      <td>187</td>\n",
       "      <td>83</td>\n",
       "      <td>Portugal</td>\n",
       "      <td>Juventus</td>\n",
       "      <td>93</td>\n",
       "      <td>93</td>\n",
       "      <td>58500000</td>\n",
       "      <td>ST, LW</td>\n",
       "      <td>Right</td>\n",
       "      <td>5</td>\n",
       "      <td>96500000.0</td>\n",
       "      <td>7.0</td>\n",
       "      <td>2022.0</td>\n",
       "    </tr>\n",
       "    <tr>\n",
       "      <th>190871</th>\n",
       "      <td>Neymar Jr</td>\n",
       "      <td>27</td>\n",
       "      <td>175</td>\n",
       "      <td>68</td>\n",
       "      <td>Brazil</td>\n",
       "      <td>Paris Saint-Germain</td>\n",
       "      <td>92</td>\n",
       "      <td>92</td>\n",
       "      <td>105500000</td>\n",
       "      <td>LW, CAM</td>\n",
       "      <td>Right</td>\n",
       "      <td>5</td>\n",
       "      <td>195200000.0</td>\n",
       "      <td>10.0</td>\n",
       "      <td>2022.0</td>\n",
       "    </tr>\n",
       "    <tr>\n",
       "      <th>200389</th>\n",
       "      <td>J. Oblak</td>\n",
       "      <td>26</td>\n",
       "      <td>188</td>\n",
       "      <td>87</td>\n",
       "      <td>Slovenia</td>\n",
       "      <td>AtlÃ©tico Madrid</td>\n",
       "      <td>91</td>\n",
       "      <td>93</td>\n",
       "      <td>77500000</td>\n",
       "      <td>GK</td>\n",
       "      <td>Right</td>\n",
       "      <td>3</td>\n",
       "      <td>164700000.0</td>\n",
       "      <td>13.0</td>\n",
       "      <td>2023.0</td>\n",
       "    </tr>\n",
       "    <tr>\n",
       "      <th>183277</th>\n",
       "      <td>E. Hazard</td>\n",
       "      <td>28</td>\n",
       "      <td>175</td>\n",
       "      <td>74</td>\n",
       "      <td>Belgium</td>\n",
       "      <td>Real Madrid</td>\n",
       "      <td>91</td>\n",
       "      <td>91</td>\n",
       "      <td>90000000</td>\n",
       "      <td>LW, CF</td>\n",
       "      <td>Right</td>\n",
       "      <td>4</td>\n",
       "      <td>184500000.0</td>\n",
       "      <td>7.0</td>\n",
       "      <td>2024.0</td>\n",
       "    </tr>\n",
       "  </tbody>\n",
       "</table>\n",
       "</div>"
      ],
      "text/plain": [
       "                  short_name  age  height_cm  weight_kg nationality  \\\n",
       "sofifa_id                                                             \n",
       "158023              L. Messi   32        170         72   Argentina   \n",
       "20801      Cristiano Ronaldo   34        187         83    Portugal   \n",
       "190871             Neymar Jr   27        175         68      Brazil   \n",
       "200389              J. Oblak   26        188         87    Slovenia   \n",
       "183277             E. Hazard   28        175         74     Belgium   \n",
       "\n",
       "                          club  overall  potential  value_eur  \\\n",
       "sofifa_id                                                       \n",
       "158023            FC Barcelona       94         94   95500000   \n",
       "20801                 Juventus       93         93   58500000   \n",
       "190871     Paris Saint-Germain       92         92  105500000   \n",
       "200389        AtlÃ©tico Madrid       91         93   77500000   \n",
       "183277             Real Madrid       91         91   90000000   \n",
       "\n",
       "          player_positions preferred_foot  international_reputation  \\\n",
       "sofifa_id                                                             \n",
       "158023          RW, CF, ST           Left                         5   \n",
       "20801               ST, LW          Right                         5   \n",
       "190871             LW, CAM          Right                         5   \n",
       "200389                  GK          Right                         3   \n",
       "183277              LW, CF          Right                         4   \n",
       "\n",
       "           release_clause_eur  team_jersey_number  contract_valid_until  \n",
       "sofifa_id                                                                \n",
       "158023            195800000.0                10.0                2021.0  \n",
       "20801              96500000.0                 7.0                2022.0  \n",
       "190871            195200000.0                10.0                2022.0  \n",
       "200389            164700000.0                13.0                2023.0  \n",
       "183277            184500000.0                 7.0                2024.0  "
      ]
     },
     "execution_count": 24,
     "metadata": {},
     "output_type": "execute_result"
    }
   ],
   "source": [
    "futbol = futbol[['short_name','age','height_cm','weight_kg','nationality','club','overall','potential','value_eur','player_positions','preferred_foot','international_reputation','release_clause_eur','team_jersey_number','contract_valid_until']]\n",
    "futbol.head(5)"
   ]
  },
  {
   "cell_type": "markdown",
   "metadata": {},
   "source": [
    "### Ahora tenemos los índices de las columnas sobre las que poder hacer las queries"
   ]
  },
  {
   "cell_type": "code",
   "execution_count": 23,
   "metadata": {},
   "outputs": [
    {
     "data": {
      "text/plain": [
       "Index(['short_name', 'age', 'height_cm', 'weight_kg', 'nationality', 'club',\n",
       "       'overall', 'potential', 'value_eur', 'player_positions',\n",
       "       'preferred_foot', 'international_reputation', 'release_clause_eur',\n",
       "       'team_jersey_number', 'contract_valid_until'],\n",
       "      dtype='object')"
      ]
     },
     "execution_count": 23,
     "metadata": {},
     "output_type": "execute_result"
    }
   ],
   "source": [
    "futbol.columns"
   ]
  },
  {
   "cell_type": "markdown",
   "metadata": {},
   "source": [
    "### comprobamos las columnas sobre las que vamos a trabajar"
   ]
  },
  {
   "cell_type": "code",
   "execution_count": 12,
   "metadata": {},
   "outputs": [
    {
     "data": {
      "text/plain": [
       "(18278, 15)"
      ]
     },
     "execution_count": 12,
     "metadata": {},
     "output_type": "execute_result"
    }
   ],
   "source": [
    "futbol.shape"
   ]
  },
  {
   "cell_type": "markdown",
   "metadata": {},
   "source": [
    "### Analizamos los valores nulos"
   ]
  },
  {
   "cell_type": "code",
   "execution_count": 20,
   "metadata": {},
   "outputs": [
    {
     "data": {
      "text/plain": [
       "short_name                     0\n",
       "age                            0\n",
       "height_cm                      0\n",
       "weight_kg                      0\n",
       "nationality                    0\n",
       "club                           0\n",
       "overall                        0\n",
       "potential                      0\n",
       "value_eur                      0\n",
       "player_positions               0\n",
       "preferred_foot                 0\n",
       "international_reputation       0\n",
       "release_clause_eur          1298\n",
       "team_jersey_number           240\n",
       "contract_valid_until         240\n",
       "dtype: int64"
      ]
     },
     "execution_count": 20,
     "metadata": {},
     "output_type": "execute_result"
    }
   ],
   "source": [
    "nulls = futbol.isnull().sum()\n",
    "nulls"
   ]
  },
  {
   "cell_type": "markdown",
   "metadata": {},
   "source": [
    "### Porcentaje de valores que faltan en nuestro scope de trabajo"
   ]
  },
  {
   "cell_type": "code",
   "execution_count": 19,
   "metadata": {},
   "outputs": [
    {
     "data": {
      "text/plain": [
       "0.6485027537659117"
      ]
     },
     "execution_count": 19,
     "metadata": {},
     "output_type": "execute_result"
    }
   ],
   "source": [
    "total_cells = np.product(futbol.shape)\n",
    "nulls_values = nulls.sum()\n",
    "percent_missing = (nulls_values / total_cells) * 100\n",
    "percent_missing"
   ]
  },
  {
   "cell_type": "markdown",
   "metadata": {},
   "source": [
    "### Porcentaje de valores nulos por columna"
   ]
  },
  {
   "cell_type": "code",
   "execution_count": 15,
   "metadata": {},
   "outputs": [
    {
     "data": {
      "text/plain": [
       "short_name                  0.000000\n",
       "age                         0.000000\n",
       "height_cm                   0.000000\n",
       "weight_kg                   0.000000\n",
       "nationality                 0.000000\n",
       "club                        0.000000\n",
       "overall                     0.000000\n",
       "potential                   0.000000\n",
       "value_eur                   0.000000\n",
       "player_positions            0.000000\n",
       "preferred_foot              0.000000\n",
       "international_reputation    0.000000\n",
       "release_clause_eur          7.101433\n",
       "team_jersey_number          1.313054\n",
       "contract_valid_until        1.313054\n",
       "dtype: float64"
      ]
     },
     "execution_count": 15,
     "metadata": {},
     "output_type": "execute_result"
    }
   ],
   "source": [
    "column_missing = futbol.isnull().sum() * 100 / futbol.shape[0]\n",
    "column_missing"
   ]
  },
  {
   "cell_type": "markdown",
   "metadata": {},
   "source": [
    "### Comprobamos la suma de duplicados"
   ]
  },
  {
   "cell_type": "code",
   "execution_count": 16,
   "metadata": {},
   "outputs": [
    {
     "data": {
      "text/plain": [
       "0"
      ]
     },
     "execution_count": 16,
     "metadata": {},
     "output_type": "execute_result"
    }
   ],
   "source": [
    "futbol.duplicated().sum()"
   ]
  },
  {
   "cell_type": "markdown",
   "metadata": {},
   "source": [
    "### Comprobamos que no haya ningun duplicado"
   ]
  },
  {
   "cell_type": "code",
   "execution_count": 17,
   "metadata": {},
   "outputs": [
    {
     "data": {
      "text/plain": [
       "sofifa_id\n",
       "158023    False\n",
       "20801     False\n",
       "190871    False\n",
       "200389    False\n",
       "183277    False\n",
       "          ...  \n",
       "245006    False\n",
       "250995    False\n",
       "252332    False\n",
       "251110    False\n",
       "233449    False\n",
       "Length: 18278, dtype: bool"
      ]
     },
     "execution_count": 17,
     "metadata": {},
     "output_type": "execute_result"
    }
   ],
   "source": [
    "futbol.duplicated()"
   ]
  },
  {
   "cell_type": "markdown",
   "metadata": {},
   "source": [
    "## Creamos nuestro nuevo Data Frame limpio(exportamos) sobre el que trabajar\n"
   ]
  },
  {
   "cell_type": "code",
   "execution_count": 18,
   "metadata": {},
   "outputs": [],
   "source": [
    "\n",
    "futbol.to_csv('cleandataset/futbol_clean.csv')"
   ]
  },
  {
   "cell_type": "code",
   "execution_count": null,
   "metadata": {},
   "outputs": [],
   "source": []
  },
  {
   "cell_type": "code",
   "execution_count": null,
   "metadata": {},
   "outputs": [],
   "source": []
  },
  {
   "cell_type": "code",
   "execution_count": null,
   "metadata": {},
   "outputs": [],
   "source": []
  },
  {
   "cell_type": "code",
   "execution_count": null,
   "metadata": {},
   "outputs": [],
   "source": []
  },
  {
   "cell_type": "code",
   "execution_count": null,
   "metadata": {},
   "outputs": [],
   "source": []
  },
  {
   "cell_type": "code",
   "execution_count": null,
   "metadata": {},
   "outputs": [],
   "source": []
  },
  {
   "cell_type": "code",
   "execution_count": null,
   "metadata": {},
   "outputs": [],
   "source": []
  },
  {
   "cell_type": "code",
   "execution_count": null,
   "metadata": {},
   "outputs": [],
   "source": []
  },
  {
   "cell_type": "code",
   "execution_count": null,
   "metadata": {},
   "outputs": [],
   "source": []
  },
  {
   "cell_type": "code",
   "execution_count": null,
   "metadata": {},
   "outputs": [],
   "source": []
  },
  {
   "cell_type": "code",
   "execution_count": null,
   "metadata": {},
   "outputs": [],
   "source": []
  },
  {
   "cell_type": "code",
   "execution_count": null,
   "metadata": {},
   "outputs": [],
   "source": []
  },
  {
   "cell_type": "code",
   "execution_count": null,
   "metadata": {},
   "outputs": [],
   "source": []
  },
  {
   "cell_type": "code",
   "execution_count": null,
   "metadata": {},
   "outputs": [],
   "source": []
  },
  {
   "cell_type": "code",
   "execution_count": null,
   "metadata": {},
   "outputs": [],
   "source": []
  }
 ],
 "metadata": {
  "kernelspec": {
   "display_name": "Python 3",
   "language": "python",
   "name": "python3"
  },
  "language_info": {
   "codemirror_mode": {
    "name": "ipython",
    "version": 3
   },
   "file_extension": ".py",
   "mimetype": "text/x-python",
   "name": "python",
   "nbconvert_exporter": "python",
   "pygments_lexer": "ipython3",
   "version": "3.8.3"
  }
 },
 "nbformat": 4,
 "nbformat_minor": 4
}
